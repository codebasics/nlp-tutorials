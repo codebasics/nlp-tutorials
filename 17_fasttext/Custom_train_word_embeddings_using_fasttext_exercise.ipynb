{
 "cells": [
  {
   "cell_type": "markdown",
   "id": "76fe58d3",
   "metadata": {},
   "source": [
    "## Exercise: Train Custom word embeddings on healthcare dataset\n"
   ]
  },
  {
   "cell_type": "markdown",
   "id": "5123fae0",
   "metadata": {},
   "source": [
    " Dataset credits --> https://www.kaggle.com/datasets/jpmiller/layoutlm"
   ]
  },
  {
   "cell_type": "code",
   "execution_count": 1,
   "id": "667ec243",
   "metadata": {},
   "outputs": [],
   "source": [
    "#Import necessary libraries\n",
    "import pandas as pd\n",
    "import numpy as np\n",
    "from string import punctuation\n",
    "import string\n",
    "from sklearn.feature_extraction.text import CountVectorizer,TfidfVectorizer\n",
    "from nltk.corpus import stopwords\n",
    "from sklearn.model_selection import train_test_split\n",
    "from sklearn.metrics import classification_report\n",
    "import fasttext\n",
    "import re"
   ]
  },
  {
   "cell_type": "code",
   "execution_count": 2,
   "id": "b2bcf15c",
   "metadata": {},
   "outputs": [],
   "source": [
    "#read the dataset medquad.csv\n"
   ]
  },
  {
   "cell_type": "code",
   "execution_count": 3,
   "id": "25a0eb30",
   "metadata": {},
   "outputs": [
    {
     "data": {
      "text/plain": [
       "(16412, 4)"
      ]
     },
     "execution_count": 3,
     "metadata": {},
     "output_type": "execute_result"
    }
   ],
   "source": [
    "#print the shape of dataframe\n"
   ]
  },
  {
   "cell_type": "code",
   "execution_count": 5,
   "id": "15af9472",
   "metadata": {},
   "outputs": [
    {
     "data": {
      "text/html": [
       "<div>\n",
       "<style scoped>\n",
       "    .dataframe tbody tr th:only-of-type {\n",
       "        vertical-align: middle;\n",
       "    }\n",
       "\n",
       "    .dataframe tbody tr th {\n",
       "        vertical-align: top;\n",
       "    }\n",
       "\n",
       "    .dataframe thead th {\n",
       "        text-align: right;\n",
       "    }\n",
       "</style>\n",
       "<table border=\"1\" class=\"dataframe\">\n",
       "  <thead>\n",
       "    <tr style=\"text-align: right;\">\n",
       "      <th></th>\n",
       "      <th>question</th>\n",
       "      <th>answer</th>\n",
       "      <th>source</th>\n",
       "      <th>focus_area</th>\n",
       "    </tr>\n",
       "  </thead>\n",
       "  <tbody>\n",
       "    <tr>\n",
       "      <th>0</th>\n",
       "      <td>What is (are) Glaucoma ?</td>\n",
       "      <td>Glaucoma is a group of diseases that can damag...</td>\n",
       "      <td>NIHSeniorHealth</td>\n",
       "      <td>Glaucoma</td>\n",
       "    </tr>\n",
       "    <tr>\n",
       "      <th>1</th>\n",
       "      <td>What causes Glaucoma ?</td>\n",
       "      <td>Nearly 2.7 million people have glaucoma, a lea...</td>\n",
       "      <td>NIHSeniorHealth</td>\n",
       "      <td>Glaucoma</td>\n",
       "    </tr>\n",
       "    <tr>\n",
       "      <th>2</th>\n",
       "      <td>What are the symptoms of Glaucoma ?</td>\n",
       "      <td>Symptoms of Glaucoma  Glaucoma can develop in ...</td>\n",
       "      <td>NIHSeniorHealth</td>\n",
       "      <td>Glaucoma</td>\n",
       "    </tr>\n",
       "    <tr>\n",
       "      <th>3</th>\n",
       "      <td>What are the treatments for Glaucoma ?</td>\n",
       "      <td>Although open-angle glaucoma cannot be cured, ...</td>\n",
       "      <td>NIHSeniorHealth</td>\n",
       "      <td>Glaucoma</td>\n",
       "    </tr>\n",
       "    <tr>\n",
       "      <th>4</th>\n",
       "      <td>What is (are) Glaucoma ?</td>\n",
       "      <td>Glaucoma is a group of diseases that can damag...</td>\n",
       "      <td>NIHSeniorHealth</td>\n",
       "      <td>Glaucoma</td>\n",
       "    </tr>\n",
       "  </tbody>\n",
       "</table>\n",
       "</div>"
      ],
      "text/plain": [
       "                                 question  \\\n",
       "0                What is (are) Glaucoma ?   \n",
       "1                  What causes Glaucoma ?   \n",
       "2     What are the symptoms of Glaucoma ?   \n",
       "3  What are the treatments for Glaucoma ?   \n",
       "4                What is (are) Glaucoma ?   \n",
       "\n",
       "                                              answer           source  \\\n",
       "0  Glaucoma is a group of diseases that can damag...  NIHSeniorHealth   \n",
       "1  Nearly 2.7 million people have glaucoma, a lea...  NIHSeniorHealth   \n",
       "2  Symptoms of Glaucoma  Glaucoma can develop in ...  NIHSeniorHealth   \n",
       "3  Although open-angle glaucoma cannot be cured, ...  NIHSeniorHealth   \n",
       "4  Glaucoma is a group of diseases that can damag...  NIHSeniorHealth   \n",
       "\n",
       "  focus_area  \n",
       "0   Glaucoma  \n",
       "1   Glaucoma  \n",
       "2   Glaucoma  \n",
       "3   Glaucoma  \n",
       "4   Glaucoma  "
      ]
     },
     "execution_count": 5,
     "metadata": {},
     "output_type": "execute_result"
    }
   ],
   "source": [
    "#print top 5 rows\n"
   ]
  },
  {
   "cell_type": "code",
   "execution_count": 6,
   "id": "b80455c3",
   "metadata": {},
   "outputs": [
    {
     "data": {
      "text/plain": [
       "question       0\n",
       "answer         5\n",
       "source         0\n",
       "focus_area    14\n",
       "dtype: int64"
      ]
     },
     "execution_count": 6,
     "metadata": {},
     "output_type": "execute_result"
    }
   ],
   "source": [
    "# check null values\n",
    "\n"
   ]
  },
  {
   "cell_type": "markdown",
   "id": "b316baa1",
   "metadata": {},
   "source": [
    "## preprocessing tasks\n",
    "\n",
    "- drop na values\n",
    "- reset indexes to maintain consistency\n",
    "- all lowercase\n",
    "- remove punctuation\n",
    "\n",
    "\n"
   ]
  },
  {
   "cell_type": "code",
   "execution_count": 7,
   "id": "c653ee34",
   "metadata": {},
   "outputs": [],
   "source": [
    "# drop na values\n"
   ]
  },
  {
   "cell_type": "code",
   "execution_count": 8,
   "id": "e6274c8e",
   "metadata": {},
   "outputs": [],
   "source": [
    "# reset indexes to maintain consistency\n"
   ]
  },
  {
   "cell_type": "code",
   "execution_count": 9,
   "id": "28514d07",
   "metadata": {},
   "outputs": [],
   "source": [
    "# make a new dataframe consisting 'answer' column only\n",
    "# (since it is a single column technically the datatype will be series)\n"
   ]
  },
  {
   "cell_type": "code",
   "execution_count": 11,
   "id": "2257c845",
   "metadata": {},
   "outputs": [],
   "source": [
    "# write a function that lowercases all text and removes punctuation\n",
    "# This script affects single row at a time\n",
    "def preprocess(text):\n",
    "    pass        \n",
    "            "
   ]
  },
  {
   "cell_type": "code",
   "execution_count": 12,
   "id": "9567935e",
   "metadata": {},
   "outputs": [],
   "source": [
    "# The above function affects single row at a time \n",
    "# Write a for loop in such a way that each row is passed-->preprocessed (with the help of function)--> stored in a dataframe\n",
    "\n"
   ]
  },
  {
   "cell_type": "code",
   "execution_count": 13,
   "id": "46c328ea",
   "metadata": {},
   "outputs": [],
   "source": [
    "# save dataframe as .txt using dataframe.to_csv with file extension as .txt\n"
   ]
  },
  {
   "cell_type": "code",
   "execution_count": 14,
   "id": "20108c84",
   "metadata": {},
   "outputs": [
    {
     "name": "stderr",
     "output_type": "stream",
     "text": [
      "Read 3M words\n",
      "Number of words:  14242\n",
      "Number of labels: 0\n",
      "Progress: 100.0% words/sec/thread:   75760 lr:  0.000000 avg.loss:  1.669383 ETA:   0h 0m 0s\n"
     ]
    }
   ],
   "source": [
    "# use  fasttext.train_unsupervised to create custom word embeddings by giving the path of .txt file\n"
   ]
  },
  {
   "cell_type": "code",
   "execution_count": 15,
   "id": "69fd2c9b",
   "metadata": {},
   "outputs": [
    {
     "data": {
      "text/plain": [
       "[(0.8244154453277588, 'echocardiography'),\n",
       " (0.8236952424049377, 'echocardiogram'),\n",
       " (0.8101474046707153, 'electrocardiogram'),\n",
       " (0.7794528007507324, 'ekg'),\n",
       " (0.75821852684021, 'echo'),\n",
       " (0.7399975061416626, 'bnp'),\n",
       " (0.7239078283309937, 'ekgs'),\n",
       " (0.697799563407898, 'kar'),\n",
       " (0.6961809992790222, 'og'),\n",
       " (0.6914857029914856, 'doppler')]"
      ]
     },
     "execution_count": 15,
     "metadata": {},
     "output_type": "execute_result"
    }
   ],
   "source": [
    "# use model.get_nearest_neighbors to get similar words \n"
   ]
  },
  {
   "cell_type": "code",
   "execution_count": 16,
   "id": "46e6fd34",
   "metadata": {},
   "outputs": [
    {
     "data": {
      "text/plain": [
       "[(0.9166972637176514, 'ligaments'),\n",
       " (0.7761837840080261, 'tendons'),\n",
       " (0.6720781922340393, 'tendon'),\n",
       " (0.6532915830612183, 'discs'),\n",
       " (0.6503507494926453, 'collar'),\n",
       " (0.6448546051979065, 'elbow'),\n",
       " (0.6427308320999146, 'cartilage'),\n",
       " (0.6359077095985413, 'sprain'),\n",
       " (0.6357372999191284, 'basement'),\n",
       " (0.6322224140167236, 'resurfacing')]"
      ]
     },
     "execution_count": 16,
     "metadata": {},
     "output_type": "execute_result"
    }
   ],
   "source": []
  },
  {
   "cell_type": "markdown",
   "id": "46a57869",
   "metadata": {},
   "source": [
    "### https://fasttext.cc/docs/en/unsupervised-tutorial.html"
   ]
  },
  {
   "cell_type": "code",
   "execution_count": 17,
   "id": "73f44a47",
   "metadata": {},
   "outputs": [
    {
     "data": {
      "text/plain": [
       "array([ 0.09482857,  0.01533806, -0.03248535,  0.36290362,  0.23964569,\n",
       "        0.6089745 ,  0.22182386,  0.00589371,  0.3613881 , -0.14488274,\n",
       "        0.01389305,  0.23738621, -0.35831967, -0.29773095, -0.08951083,\n",
       "        0.32752547,  0.56893593, -0.03249176,  0.3913859 ,  0.186696  ,\n",
       "       -0.15310575,  0.23216903, -0.15104087, -0.33464813, -0.44109988,\n",
       "       -0.28072706, -0.1688824 ,  0.08339334,  0.37181893,  0.43187347,\n",
       "        0.19282559, -0.03575048, -0.03617615,  0.3259185 ,  0.00179029,\n",
       "        0.24684685, -0.20366846,  0.3289233 ,  0.5039175 ,  0.13526386,\n",
       "        0.0718761 ,  0.05681711, -0.7553183 ,  0.32945108, -0.18107863,\n",
       "       -0.20611802, -0.14482398,  0.06432518, -0.6852128 ,  0.42475495,\n",
       "        0.3589564 ,  0.18746622,  0.40527713, -0.5937387 , -0.5694664 ,\n",
       "       -0.443842  ,  0.25917894,  0.14711906,  0.56256604,  0.4129863 ,\n",
       "        0.1584172 ,  0.52890694,  0.46466643,  0.3304083 , -0.3795962 ,\n",
       "       -0.06420834,  0.21223271, -0.01089323,  0.01456157,  0.12314675,\n",
       "        0.07921771,  0.03943039, -0.37637872, -0.13885029, -0.95009553,\n",
       "       -0.33133692,  0.11084338, -0.5751306 , -0.24254668,  0.09174724,\n",
       "       -0.3223067 ,  0.27014175,  0.48825076, -0.07871709,  0.11109322,\n",
       "        0.05146478, -0.12546264, -0.08532781,  0.241089  , -0.02018843,\n",
       "       -0.5252363 ,  0.35856858,  0.11913265, -0.17984863,  0.4042842 ,\n",
       "        0.07589825, -0.00663279,  0.14801505,  0.07709462, -0.31627306],\n",
       "      dtype=float32)"
      ]
     },
     "execution_count": 17,
     "metadata": {},
     "output_type": "execute_result"
    }
   ],
   "source": [
    "# By reading the documentation get the word vector of the word \"brain\"\n"
   ]
  },
  {
   "cell_type": "code",
   "execution_count": null,
   "id": "6b2a35c1",
   "metadata": {},
   "outputs": [],
   "source": []
  }
 ],
 "metadata": {
  "kernelspec": {
   "display_name": "Python 3 (ipykernel)",
   "language": "python",
   "name": "python3"
  },
  "language_info": {
   "codemirror_mode": {
    "name": "ipython",
    "version": 3
   },
   "file_extension": ".py",
   "mimetype": "text/x-python",
   "name": "python",
   "nbconvert_exporter": "python",
   "pygments_lexer": "ipython3",
   "version": "3.9.12"
  }
 },
 "nbformat": 4,
 "nbformat_minor": 5
}

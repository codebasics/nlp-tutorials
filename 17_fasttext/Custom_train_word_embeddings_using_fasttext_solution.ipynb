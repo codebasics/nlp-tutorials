{
 "cells": [
  {
   "cell_type": "markdown",
   "id": "4f34c354",
   "metadata": {},
   "source": [
    "## Exercise: Train Custom word embeddings on healthcare dataset\n"
   ]
  },
  {
   "cell_type": "markdown",
   "id": "1d414cac",
   "metadata": {},
   "source": [
    " Dataset credits --> https://www.kaggle.com/datasets/jpmiller/layoutlm"
   ]
  },
  {
   "cell_type": "code",
   "execution_count": 1,
   "id": "2be567c8",
   "metadata": {},
   "outputs": [],
   "source": [
    "#Import necessary libraries\n",
    "import pandas as pd\n",
    "import numpy as np\n",
    "from string import punctuation\n",
    "import string\n",
    "from sklearn.feature_extraction.text import CountVectorizer,TfidfVectorizer\n",
    "from nltk.corpus import stopwords\n",
    "from sklearn.model_selection import train_test_split\n",
    "from sklearn.metrics import classification_report\n",
    "import fasttext\n",
    "import re"
   ]
  },
  {
   "cell_type": "code",
   "execution_count": 2,
   "id": "ca22ebe7",
   "metadata": {},
   "outputs": [],
   "source": [
    "#read the dataset medquad.csv\n",
    "df_hc = pd.read_csv(\"datasets_nlp/medquad.csv\")"
   ]
  },
  {
   "cell_type": "code",
   "execution_count": 3,
   "id": "39c7c142",
   "metadata": {},
   "outputs": [
    {
     "data": {
      "text/plain": [
       "(16412, 4)"
      ]
     },
     "execution_count": 3,
     "metadata": {},
     "output_type": "execute_result"
    }
   ],
   "source": [
    "#print the shape of dataframe\n",
    "df_hc.shape"
   ]
  },
  {
   "cell_type": "code",
   "execution_count": 4,
   "id": "029ed6f9",
   "metadata": {},
   "outputs": [
    {
     "data": {
      "text/html": [
       "<div>\n",
       "<style scoped>\n",
       "    .dataframe tbody tr th:only-of-type {\n",
       "        vertical-align: middle;\n",
       "    }\n",
       "\n",
       "    .dataframe tbody tr th {\n",
       "        vertical-align: top;\n",
       "    }\n",
       "\n",
       "    .dataframe thead th {\n",
       "        text-align: right;\n",
       "    }\n",
       "</style>\n",
       "<table border=\"1\" class=\"dataframe\">\n",
       "  <thead>\n",
       "    <tr style=\"text-align: right;\">\n",
       "      <th></th>\n",
       "      <th>question</th>\n",
       "      <th>answer</th>\n",
       "      <th>source</th>\n",
       "      <th>focus_area</th>\n",
       "    </tr>\n",
       "  </thead>\n",
       "  <tbody>\n",
       "    <tr>\n",
       "      <th>0</th>\n",
       "      <td>What is (are) Glaucoma ?</td>\n",
       "      <td>Glaucoma is a group of diseases that can damag...</td>\n",
       "      <td>NIHSeniorHealth</td>\n",
       "      <td>Glaucoma</td>\n",
       "    </tr>\n",
       "    <tr>\n",
       "      <th>1</th>\n",
       "      <td>What causes Glaucoma ?</td>\n",
       "      <td>Nearly 2.7 million people have glaucoma, a lea...</td>\n",
       "      <td>NIHSeniorHealth</td>\n",
       "      <td>Glaucoma</td>\n",
       "    </tr>\n",
       "    <tr>\n",
       "      <th>2</th>\n",
       "      <td>What are the symptoms of Glaucoma ?</td>\n",
       "      <td>Symptoms of Glaucoma  Glaucoma can develop in ...</td>\n",
       "      <td>NIHSeniorHealth</td>\n",
       "      <td>Glaucoma</td>\n",
       "    </tr>\n",
       "    <tr>\n",
       "      <th>3</th>\n",
       "      <td>What are the treatments for Glaucoma ?</td>\n",
       "      <td>Although open-angle glaucoma cannot be cured, ...</td>\n",
       "      <td>NIHSeniorHealth</td>\n",
       "      <td>Glaucoma</td>\n",
       "    </tr>\n",
       "    <tr>\n",
       "      <th>4</th>\n",
       "      <td>What is (are) Glaucoma ?</td>\n",
       "      <td>Glaucoma is a group of diseases that can damag...</td>\n",
       "      <td>NIHSeniorHealth</td>\n",
       "      <td>Glaucoma</td>\n",
       "    </tr>\n",
       "  </tbody>\n",
       "</table>\n",
       "</div>"
      ],
      "text/plain": [
       "                                 question  \\\n",
       "0                What is (are) Glaucoma ?   \n",
       "1                  What causes Glaucoma ?   \n",
       "2     What are the symptoms of Glaucoma ?   \n",
       "3  What are the treatments for Glaucoma ?   \n",
       "4                What is (are) Glaucoma ?   \n",
       "\n",
       "                                              answer           source  \\\n",
       "0  Glaucoma is a group of diseases that can damag...  NIHSeniorHealth   \n",
       "1  Nearly 2.7 million people have glaucoma, a lea...  NIHSeniorHealth   \n",
       "2  Symptoms of Glaucoma  Glaucoma can develop in ...  NIHSeniorHealth   \n",
       "3  Although open-angle glaucoma cannot be cured, ...  NIHSeniorHealth   \n",
       "4  Glaucoma is a group of diseases that can damag...  NIHSeniorHealth   \n",
       "\n",
       "  focus_area  \n",
       "0   Glaucoma  \n",
       "1   Glaucoma  \n",
       "2   Glaucoma  \n",
       "3   Glaucoma  \n",
       "4   Glaucoma  "
      ]
     },
     "execution_count": 4,
     "metadata": {},
     "output_type": "execute_result"
    }
   ],
   "source": [
    "#print top 5 rows\n",
    "df_hc.head()"
   ]
  },
  {
   "cell_type": "code",
   "execution_count": 5,
   "id": "48d62379",
   "metadata": {},
   "outputs": [
    {
     "data": {
      "text/plain": [
       "question       0\n",
       "answer         5\n",
       "source         0\n",
       "focus_area    14\n",
       "dtype: int64"
      ]
     },
     "execution_count": 5,
     "metadata": {},
     "output_type": "execute_result"
    }
   ],
   "source": [
    "# check null values\n",
    "\n",
    "df_hc.isnull().sum()"
   ]
  },
  {
   "cell_type": "markdown",
   "id": "07207fb2",
   "metadata": {},
   "source": [
    "## preprocessing tasks\n",
    "\n",
    "- drop na values\n",
    "- reset indexes to maintain consistency\n",
    "- all lowercase\n",
    "- remove punctuation\n",
    "\n",
    "\n"
   ]
  },
  {
   "cell_type": "code",
   "execution_count": 6,
   "id": "4f676ffe",
   "metadata": {},
   "outputs": [],
   "source": [
    "# drop na values\n",
    "df_hc.dropna(inplace=True)"
   ]
  },
  {
   "cell_type": "code",
   "execution_count": 7,
   "id": "e9330365",
   "metadata": {},
   "outputs": [],
   "source": [
    "# reset indexes to maintain consistency\n",
    "df_hc = df_hc.reset_index(drop=True)"
   ]
  },
  {
   "cell_type": "code",
   "execution_count": 8,
   "id": "7a6e489f",
   "metadata": {},
   "outputs": [],
   "source": [
    "# make a new dataframe consisting 'answer' column only\n",
    "# (since it is a single column technically the datatype will be series)\n",
    "df_ans = df_hc['answer']"
   ]
  },
  {
   "cell_type": "code",
   "execution_count": 9,
   "id": "f677dae8",
   "metadata": {},
   "outputs": [],
   "source": [
    "# write a function that lowercases all text and removes punctuation\n",
    "# This script affects single row at a time\n",
    "def preprocess(text):\n",
    "    temp = \"\"\n",
    "    text = text.strip()\n",
    "    text = text.lower()\n",
    "    text = text.replace(\"-\",\" \").replace(\"  \",\" \")\n",
    "    for word in text:\n",
    "        if word not in punctuation:\n",
    "            temp+=word\n",
    "    return temp        \n",
    "            "
   ]
  },
  {
   "cell_type": "code",
   "execution_count": 10,
   "id": "bb8f7e0e",
   "metadata": {},
   "outputs": [],
   "source": [
    "# The above function affects single row at a time \n",
    "# Write a for loop in such a way that each row is passed-->preprocessed (with the help of function)--> stored in a dataframe\n",
    "\n",
    "for i in range(len(df_ans)):\n",
    "    df_ans[i] = preprocess(df_ans[i])"
   ]
  },
  {
   "cell_type": "code",
   "execution_count": 11,
   "id": "6b6381c8",
   "metadata": {},
   "outputs": [],
   "source": [
    "# save dataframe as .txt using dataframe.to_csv with file extension as .txt\n",
    "df_ans.to_csv(\"datasets_nlp/healthcare.txt\",header=False,index=False)"
   ]
  },
  {
   "cell_type": "code",
   "execution_count": 12,
   "id": "4599bbf6",
   "metadata": {},
   "outputs": [
    {
     "name": "stderr",
     "output_type": "stream",
     "text": [
      "Read 3M words\n",
      "Number of words:  14242\n",
      "Number of labels: 0\n",
      "Progress: 100.0% words/sec/thread:   51996 lr:  0.000000 avg.loss:  1.652157 ETA:   0h 0m 0s\n"
     ]
    }
   ],
   "source": [
    "# use  fasttext.train_unsupervised to create custom word embeddings by giving the path of .txt file\n",
    "model_hc = fasttext.train_unsupervised(\"datasets_nlp/healthcare.txt\")"
   ]
  },
  {
   "cell_type": "code",
   "execution_count": 13,
   "id": "330f6a8f",
   "metadata": {},
   "outputs": [
    {
     "data": {
      "text/plain": [
       "[(0.8263229131698608, 'echocardiogram'),\n",
       " (0.8148790597915649, 'echocardiography'),\n",
       " (0.7939037084579468, 'electrocardiogram'),\n",
       " (0.791140615940094, 'ekg'),\n",
       " (0.7846466302871704, 'echo'),\n",
       " (0.7412909269332886, 'ekgs'),\n",
       " (0.7244842052459717, 'bnp'),\n",
       " (0.7211816310882568, 'kar'),\n",
       " (0.7004911303520203, 'og'),\n",
       " (0.676946222782135, 'doppler')]"
      ]
     },
     "execution_count": 13,
     "metadata": {},
     "output_type": "execute_result"
    }
   ],
   "source": [
    "# use model.get_nearest_neighbors to get similar words \n",
    "model_hc.get_nearest_neighbors(\"ecg\")"
   ]
  },
  {
   "cell_type": "code",
   "execution_count": 14,
   "id": "c41699c0",
   "metadata": {},
   "outputs": [
    {
     "data": {
      "text/plain": [
       "[(0.9238018989562988, 'ligaments'),\n",
       " (0.7782121896743774, 'tendons'),\n",
       " (0.6682389974594116, 'tendon'),\n",
       " (0.6544951796531677, 'cartilage'),\n",
       " (0.6522432565689087, 'joints'),\n",
       " (0.6520083546638489, 'resurfacing'),\n",
       " (0.6491118669509888, 'extending'),\n",
       " (0.6475667357444763, 'compress'),\n",
       " (0.6425794363021851, 'widening'),\n",
       " (0.6418549418449402, 'tailbone')]"
      ]
     },
     "execution_count": 14,
     "metadata": {},
     "output_type": "execute_result"
    }
   ],
   "source": [
    "model_hc.get_nearest_neighbors(\"ligament\")"
   ]
  },
  {
   "cell_type": "markdown",
   "id": "a070e9c6",
   "metadata": {},
   "source": [
    "### https://fasttext.cc/docs/en/unsupervised-tutorial.html"
   ]
  },
  {
   "cell_type": "code",
   "execution_count": 15,
   "id": "a5344ad1",
   "metadata": {},
   "outputs": [
    {
     "data": {
      "text/plain": [
       "array([ 0.02016333,  0.30255845,  0.04084903,  0.11208713,  0.10345652,\n",
       "        0.79780525,  0.3647665 , -0.02003851,  0.57160765, -0.34668088,\n",
       "        0.1862476 , -0.03828843, -0.23584977, -0.18024597,  0.21052791,\n",
       "        0.21451059,  0.3546918 ,  0.0197646 ,  0.30479044,  0.16199633,\n",
       "       -0.26654622,  0.27713412,  0.12995963, -0.29214403, -0.7431378 ,\n",
       "       -0.3986335 , -0.2762654 ,  0.08387363,  0.44675967,  0.37873188,\n",
       "        0.03612946, -0.1457945 , -0.15453799,  0.3425216 , -0.04356172,\n",
       "       -0.07204971, -0.48246548,  0.4327433 ,  0.5472697 , -0.10391239,\n",
       "        0.33897513, -0.15688512, -0.4303833 ,  0.2605495 , -0.06738608,\n",
       "       -0.1000694 ,  0.08408111,  0.11826676, -0.67635757,  0.2858772 ,\n",
       "        0.2585256 ,  0.18417582,  0.44063672, -0.33223882, -0.31031257,\n",
       "       -0.1642105 ,  0.15793689,  0.2839121 ,  0.56134087,  0.37980518,\n",
       "       -0.0189843 ,  0.7617114 ,  0.41815984,  0.3020979 , -0.42336625,\n",
       "       -0.22726956,  0.19179755, -0.04257245, -0.17210221,  0.037574  ,\n",
       "        0.3031624 ,  0.11863418, -0.3669442 , -0.1543875 , -0.7748602 ,\n",
       "       -0.29737005, -0.21069846, -0.36336836,  0.09665326, -0.20559132,\n",
       "        0.03992032,  0.17216513,  0.226166  , -0.12101639,  0.44854042,\n",
       "        0.07090326,  0.11319013,  0.00231931,  0.3539978 , -0.2727153 ,\n",
       "       -0.26235428,  0.18647212, -0.01934939, -0.1636748 ,  0.37086877,\n",
       "       -0.02776599, -0.02369662,  0.09192817,  0.02194499, -0.29525942],\n",
       "      dtype=float32)"
      ]
     },
     "execution_count": 15,
     "metadata": {},
     "output_type": "execute_result"
    }
   ],
   "source": [
    "# By reading the documentation get the word vector of the word \"brain\"\n",
    "model_hc.get_word_vector(\"brain\")"
   ]
  },
  {
   "cell_type": "code",
   "execution_count": null,
   "id": "97ebc148",
   "metadata": {},
   "outputs": [],
   "source": []
  }
 ],
 "metadata": {
  "kernelspec": {
   "display_name": "Python 3 (ipykernel)",
   "language": "python",
   "name": "python3"
  },
  "language_info": {
   "codemirror_mode": {
    "name": "ipython",
    "version": 3
   },
   "file_extension": ".py",
   "mimetype": "text/x-python",
   "name": "python",
   "nbconvert_exporter": "python",
   "pygments_lexer": "ipython3",
   "version": "3.9.12"
  }
 },
 "nbformat": 4,
 "nbformat_minor": 5
}

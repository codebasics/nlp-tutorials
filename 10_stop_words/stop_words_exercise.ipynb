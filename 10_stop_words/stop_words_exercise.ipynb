{
 "cells": [
  {
   "cell_type": "markdown",
   "id": "b17f58fa",
   "metadata": {
    "id": "b17f58fa"
   },
   "source": [
    "###                     **Stop Words: Exercises**"
   ]
  },
  {
   "cell_type": "markdown",
   "id": "23a26def",
   "metadata": {
    "id": "23a26def"
   },
   "source": [
    "- **Run this cell to import all necessary packages**"
   ]
  },
  {
   "cell_type": "code",
   "execution_count": 1,
   "id": "34f02550",
   "metadata": {
    "id": "34f02550"
   },
   "outputs": [],
   "source": [
    "#importing spacy and loading the model\n",
    "\n",
    "import spacy\n",
    "nlp = spacy.load(\"en_core_web_sm\")"
   ]
  },
  {
   "cell_type": "markdown",
   "id": "0fe230d8",
   "metadata": {
    "id": "0fe230d8"
   },
   "source": [
    "**Exercise1:** \n",
    "- From a Given Text, Count the number of stop words in it.\n",
    "- Also, print the proposition of stop words compared to all words in given text."
   ]
  },
  {
   "cell_type": "code",
   "execution_count": 2,
   "id": "646c9e7a",
   "metadata": {
    "colab": {
     "base_uri": "https://localhost:8080/"
    },
    "id": "646c9e7a",
    "outputId": "6a4255f4-8aa9-4a34-9112-18fbf2ec584a"
   },
   "outputs": [],
   "source": [
    "text = '''\n",
    "Thor: Love and Thunder is a 2022 American superhero film based on Marvel Comics featuring the character Thor, produced by Marvel Studios and \n",
    "distributed by Walt Disney Studios Motion Pictures. It is the sequel to Thor: Ragnarok (2017) and the 29th film in the Marvel Cinematic Universe (MCU).\n",
    "The film is directed by Taika Waititi, who co-wrote the script with Jennifer Kaytin Robinson, and stars Chris Hemsworth as Thor alongside Christian Bale, Tessa Thompson,\n",
    "Jaimie Alexander, Waititi, Russell Crowe, and Natalie Portman. In the film, Thor attempts to find inner peace, but must return to action and recruit Valkyrie (Thompson),\n",
    "Korg (Waititi), and Jane Foster (Portman)—who is now the Mighty Thor—to stop Gorr the God Butcher (Bale) from eliminating all gods.\n",
    "'''\n",
    "\n",
    "#step1: Creating the object 'doc' for the given text using nlp()\n",
    "\n",
    "\n",
    "\n",
    "#step2: define the variables to keep track of stopwords count and total words count\n",
    "\n",
    "\n",
    "\n",
    "#step3: iterating through all the words in the document\n",
    "\n",
    "\n",
    "\n",
    "#step4: printing the count of stop words\n",
    "\n",
    "    \n",
    "\n",
    "#step5: printing the percentage of stop words compared to total words in the text\n"
   ]
  },
  {
   "cell_type": "markdown",
   "id": "vsJaC5a-ldY-",
   "metadata": {
    "id": "vsJaC5a-ldY-"
   },
   "source": [
    "**Exercise2:** \n",
    "\n",
    "- Spacy default implementation considers **\"not\"** as a stop word. But in some scenarios removing 'not' will completely change the meaning of the statement/text. For Example, consider these two statements:\n",
    "\n",
    "      - this is a good movie       ----> Positive Statement\n",
    "      - this is not a good movie   ----> Negative Statement\n",
    "\n",
    "- So, after applying stopwords to those 2 texts, both will return **\"good movie\"** and does not respect the polarity/sentiments of text.\n",
    "  \n",
    "- Now, your task is to remove this stop word **\"not\"** in spaCy and help in distinguishing the texts.\n",
    "\n",
    "\n",
    "- **Hint:** GOOGLE IT! Google is your friend.\n",
    "\n"
   ]
  },
  {
   "cell_type": "code",
   "execution_count": 4,
   "id": "4e9e663a",
   "metadata": {
    "colab": {
     "base_uri": "https://localhost:8080/"
    },
    "id": "4e9e663a",
    "outputId": "72779ead-6cb9-4f92-da54-3e3a882c2069"
   },
   "outputs": [],
   "source": [
    "#use this pre-processing function to pass the text and to remove all the stop words and finally get the cleaned form\n",
    "def preprocess(text):\n",
    "    doc = nlp(text)\n",
    "    no_stop_words = [token.text for token in doc if not token.is_stop]\n",
    "    return \" \".join(no_stop_words)       \n",
    "\n",
    "\n",
    "#Step1: remove the stopword 'not' in spacy\n",
    "\n",
    "\n",
    "\n",
    "#step2: send the two texts given above into the pre-process function and store the transformed texts\n",
    "\n",
    "\n",
    "#step3: finally print those 2 transformed texts\n",
    "\n"
   ]
  },
  {
   "cell_type": "markdown",
   "id": "Tz3r_Y6RsvFk",
   "metadata": {
    "id": "Tz3r_Y6RsvFk"
   },
   "source": [
    "**Exercise3:** \n",
    "\n",
    "For a Given Text, perform these operations.\n",
    "\n",
    "  - **Step1:** Convert the complete text into lowercase.\n",
    "  - **Step2:** Create a nlp() object for the text.\n",
    "  - **Step3:** For each token, ignore if it is stop word or else convert the word to its base form using the lemmatisation of spacy. Keep storing all the base forms in a seperate list.\n",
    "  - **Step4:** Finally return the transformed text.\n"
   ]
  },
  {
   "cell_type": "code",
   "execution_count": 5,
   "id": "809a4045",
   "metadata": {
    "colab": {
     "base_uri": "https://localhost:8080/"
    },
    "id": "809a4045",
    "outputId": "ec7cec69-d554-44c9-d773-9c0119234281"
   },
   "outputs": [],
   "source": [
    "text = '''\n",
    "This was my first ever superhero movie and I totally totally loved it to the core.\n",
    "Ofcourse the movie is revolve around spider man saving the people from some dangerous extra powerful villains.\n",
    "I just love the use of technology in the movie. The way Beck uses technology to create an illusion to be the next iron man was marvellous\n",
    "'''\n",
    "\n",
    "\n",
    "#step1: converting text completely to lowercase letters\n",
    "\n",
    "\n",
    "\n",
    "#step2: creating an nlp object\n",
    "\n",
    "\n",
    "#create a list to store all base forms\n",
    "\n",
    "\n",
    "#step3: iterating through each text and checking stop word and convert to base form using lemmatisation if not. \n",
    "\n",
    "\n",
    "#step4: joining all words in a list into string using 'join()'"
   ]
  },
  {
   "cell_type": "markdown",
   "id": "802f54d6",
   "metadata": {},
   "source": [
    "## [**Solution**](./stop_words_exercise_solutions.ipynb)"
   ]
  }
 ],
 "metadata": {
  "colab": {
   "collapsed_sections": [],
   "name": "stop_words_exercise.ipynb",
   "provenance": []
  },
  "kernelspec": {
   "display_name": "Python 3 (ipykernel)",
   "language": "python",
   "name": "python3"
  },
  "language_info": {
   "codemirror_mode": {
    "name": "ipython",
    "version": 3
   },
   "file_extension": ".py",
   "mimetype": "text/x-python",
   "name": "python",
   "nbconvert_exporter": "python",
   "pygments_lexer": "ipython3",
   "version": "3.8.10"
  }
 },
 "nbformat": 4,
 "nbformat_minor": 5
}
